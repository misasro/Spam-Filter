{
 "cells": [
  {
   "cell_type": "code",
   "execution_count": 1,
   "id": "initial_id",
   "metadata": {
    "jupyter": {
     "is_executing": true
    }
   },
   "outputs": [],
   "source": [
    "from filter import MyFilter\n",
    "from quality import compute_quality_for_corpus"
   ]
  },
  {
   "cell_type": "code",
   "execution_count": 2,
   "id": "11866e59-48bf-4ddb-9098-d7ea8c2f13ef",
   "metadata": {},
   "outputs": [],
   "source": [
    "MyFilter().train('datasets/1/').test('datasets/1')"
   ]
  },
  {
   "cell_type": "code",
   "execution_count": 3,
   "id": "f2367485-b4ca-434e-a1d7-3524bb44e61f",
   "metadata": {},
   "outputs": [
    {
     "data": {
      "text/plain": [
       "0.7565597667638484"
      ]
     },
     "execution_count": 3,
     "metadata": {},
     "output_type": "execute_result"
    }
   ],
   "source": [
    "compute_quality_for_corpus('datasets/1/')"
   ]
  },
  {
   "cell_type": "code",
   "execution_count": 4,
   "id": "a1d3a959-25e7-48b6-b2cb-92db5e3f7fdc",
   "metadata": {},
   "outputs": [],
   "source": [
    "MyFilter().train('datasets/1/').test('datasets/2')"
   ]
  },
  {
   "cell_type": "code",
   "execution_count": 5,
   "id": "126a3906-b957-4071-a395-6b4ba56ed497",
   "metadata": {},
   "outputs": [
    {
     "data": {
      "text/plain": [
       "0.7173295454545454"
      ]
     },
     "execution_count": 5,
     "metadata": {},
     "output_type": "execute_result"
    }
   ],
   "source": [
    "compute_quality_for_corpus('datasets/2/')"
   ]
  },
  {
   "cell_type": "code",
   "execution_count": 6,
   "id": "299aa065-3703-4011-8c2b-aa56780979b0",
   "metadata": {},
   "outputs": [],
   "source": [
    "MyFilter().train('datasets/2/').test('datasets/2')"
   ]
  },
  {
   "cell_type": "code",
   "execution_count": 7,
   "id": "1f4da321-0c94-4298-8adf-afc89a20728e",
   "metadata": {},
   "outputs": [
    {
     "data": {
      "text/plain": [
       "0.7769461077844312"
      ]
     },
     "execution_count": 7,
     "metadata": {},
     "output_type": "execute_result"
    }
   ],
   "source": [
    "compute_quality_for_corpus('datasets/2/')"
   ]
  },
  {
   "cell_type": "code",
   "execution_count": 8,
   "id": "4feab4c2-1c15-4351-becf-abb9a6e57495",
   "metadata": {},
   "outputs": [],
   "source": [
    "MyFilter().train('datasets/2/').test('datasets/1')"
   ]
  },
  {
   "cell_type": "code",
   "execution_count": 9,
   "id": "472bb713-2066-42b6-bfa0-710b492f32e0",
   "metadata": {},
   "outputs": [
    {
     "data": {
      "text/plain": [
       "0.7438848920863309"
      ]
     },
     "execution_count": 9,
     "metadata": {},
     "output_type": "execute_result"
    }
   ],
   "source": [
    "compute_quality_for_corpus('datasets/1/')"
   ]
  }
 ],
 "metadata": {
  "kernelspec": {
   "display_name": "Python 3 (ipykernel)",
   "language": "python",
   "name": "python3"
  },
  "language_info": {
   "codemirror_mode": {
    "name": "ipython",
    "version": 3
   },
   "file_extension": ".py",
   "mimetype": "text/x-python",
   "name": "python",
   "nbconvert_exporter": "python",
   "pygments_lexer": "ipython3",
   "version": "3.11.10"
  }
 },
 "nbformat": 4,
 "nbformat_minor": 5
}
